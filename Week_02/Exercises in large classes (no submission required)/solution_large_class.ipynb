{
 "cells": [
  {
   "cell_type": "code",
   "execution_count": 1,
   "metadata": {},
   "outputs": [
    {
     "name": "stdout",
     "output_type": "stream",
     "text": [
      "            date currency_code                  name  local_price  dollar_ex  \\\n",
      "0     2000-04-01           ARS             Argentina         2.50          1   \n",
      "1     2000-04-01           AUD             Australia         2.59          1   \n",
      "2     2000-04-01           BRL                Brazil         2.95          1   \n",
      "3     2000-04-01           GBP               Britain         1.90          1   \n",
      "4     2000-04-01           CAD                Canada         2.85          1   \n",
      "...          ...           ...                   ...          ...        ...   \n",
      "1941  2022-07-01           AED  United Arab Emirates        18.00          3   \n",
      "1942  2022-07-01           USD         United States         5.15          1   \n",
      "1943  2022-07-01           UYU               Uruguay       255.00         41   \n",
      "1944  2022-07-01           VES             Venezuela        10.00          5   \n",
      "1945  2022-07-01           VND               Vietnam     69000.00      23417   \n",
      "\n",
      "      dollar_price  \n",
      "0             2.50  \n",
      "1             2.59  \n",
      "2             2.95  \n",
      "3             1.90  \n",
      "4             2.85  \n",
      "...            ...  \n",
      "1941          6.00  \n",
      "1942          5.15  \n",
      "1943          6.22  \n",
      "1944          2.00  \n",
      "1945          2.95  \n",
      "\n",
      "[1946 rows x 6 columns]\n"
     ]
    }
   ],
   "source": [
    "import pandas as pd\n",
    "\n",
    "# Assuming the CSV file is in the same directory as your Python script\n",
    "file_path = \"BigmacPrice.csv\"\n",
    "\n",
    "# Read the CSV file into a DataFrame\n",
    "df = pd.read_csv(file_path)\n",
    "\n",
    "# Display the DataFrame\n",
    "print(df)\n"
   ]
  },
  {
   "cell_type": "code",
   "execution_count": 3,
   "metadata": {},
   "outputs": [
    {
     "name": "stdout",
     "output_type": "stream",
     "text": [
      "{'New Hampshire Red': 297, 'Australorp': 213, 'Plymouth Rock': 314, 'Barnevelder': 316, 'ISA Brown': 225}\n"
     ]
    }
   ],
   "source": [
    "import pandas as pd\n",
    "\n",
    "# Assuming the Excel file is in the same directory as your Python script\n",
    "file_path = \"ChickenData.xlsx\"\n",
    "\n",
    "# Read the Excel file into a DataFrame\n",
    "df = pd.read_excel(file_path)\n",
    "\n",
    "# Create a dictionary from the DataFrame with \"breed\" as keys and \"eggs_per_year\" as values\n",
    "breed_eggs_dict = df.set_index('breed')['eggs_per_year'].to_dict()\n",
    "\n",
    "# Display the dictionary\n",
    "print(breed_eggs_dict)\n"
   ]
  },
  {
   "cell_type": "code",
   "execution_count": 4,
   "metadata": {},
   "outputs": [
    {
     "name": "stdout",
     "output_type": "stream",
     "text": [
      "      Offer_Id                                               Type  \\\n",
      "0      7324420  AUDI A5 Sportback 3.0 TDI quattro S-tronic (Li...   \n",
      "1      7512768        MERCEDES-BENZ SLK 200 7G-Tronic (Cabriolet)   \n",
      "2      7512034  MERCEDES-BENZ C 350 Avantgarde 4Matic 7G-Troni...   \n",
      "3      7512728  MERCEDES-BENZ A 45 AMG 4Matic Speedshift 7G-DC...   \n",
      "4      7490242  AUDI A5 Sportback 2.0 TFSI Sport quattro S-tro...   \n",
      "...        ...                                                ...   \n",
      "3975   7137137                    FERRARI F360 Spider (Cabriolet)   \n",
      "3976   6758841            MERCEDES-BENZ SL 500 560 SL (Cabriolet)   \n",
      "3977   7461330          MERCEDES-BENZ CL 63 AMG 7G-Tronic (Coupé)   \n",
      "3978   7005403                        BMW 328i Cabrio (Cabriolet)   \n",
      "3979   7200843                  BMW 328i Cabrio Sport (Cabriolet)   \n",
      "\n",
      "             Price      PS Init_Regist   Kilometer Fuel_Type  \\\n",
      "0     CHF 22'500.–  245 PS     10.2014   75'000 km    Diesel   \n",
      "1     CHF 23'749.–  184 PS      6.2013   46'655 km    Benzin   \n",
      "2     CHF 18'500.–  306 PS      6.2011  138'955 km    Benzin   \n",
      "3     CHF 36'000.–  360 PS      8.2015   43'000 km    Benzin   \n",
      "4     CHF 48'500.–  252 PS      9.2018   43'300 km    Benzin   \n",
      "...            ...     ...         ...         ...       ...   \n",
      "3975  CHF 58'400.–  400 PS      2.2002   78'000 km    Benzin   \n",
      "3976  CHF 15'900.–  232 PS      1.1987  315'000 km    Benzin   \n",
      "3977  CHF 42'000.–  525 PS      8.2007   85'000 km    Benzin   \n",
      "3978   CHF 9'980.–  193 PS      8.1995  188'920 km    Benzin   \n",
      "3979  CHF 13'500.–  193 PS      4.1999  134'000 km    Benzin   \n",
      "\n",
      "                        Transmission  \n",
      "0     Automatisiertes Schaltgetriebe  \n",
      "1                Automat sequentiell  \n",
      "2                Automat sequentiell  \n",
      "3     Automatisiertes Schaltgetriebe  \n",
      "4     Automatisiertes Schaltgetriebe  \n",
      "...                              ...  \n",
      "3975  Automatisiertes Schaltgetriebe  \n",
      "3976              Automatik-Getriebe  \n",
      "3977             Automat sequentiell  \n",
      "3978          Schaltgetriebe manuell  \n",
      "3979          Schaltgetriebe manuell  \n",
      "\n",
      "[3980 rows x 8 columns]\n"
     ]
    }
   ],
   "source": [
    "import pandas as pd\n",
    "\n",
    "# Read the CSV file into a DataFrame\n",
    "df = pd.read_csv(\"Cars_autoscout24.csv\", sep=';', encoding='cp1252')\n",
    "\n",
    "# Display the DataFrame\n",
    "print(df)\n"
   ]
  }
 ],
 "metadata": {
  "kernelspec": {
   "display_name": "Python 3",
   "language": "python",
   "name": "python3"
  },
  "language_info": {
   "codemirror_mode": {
    "name": "ipython",
    "version": 3
   },
   "file_extension": ".py",
   "mimetype": "text/x-python",
   "name": "python",
   "nbconvert_exporter": "python",
   "pygments_lexer": "ipython3",
   "version": "3.10.13"
  },
  "orig_nbformat": 4
 },
 "nbformat": 4,
 "nbformat_minor": 2
}
